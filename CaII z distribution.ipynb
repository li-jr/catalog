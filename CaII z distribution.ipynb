{
 "cells": [
  {
   "cell_type": "code",
   "execution_count": 7,
   "metadata": {
    "ExecuteTime": {
     "end_time": "2020-02-12T12:33:05.140814Z",
     "start_time": "2020-02-12T12:33:04.692170Z"
    }
   },
   "outputs": [],
   "source": [
    "import numpy as np\n",
    "import matplotlib.pyplot as plt\n",
    "import pandas as pd "
   ]
  },
  {
   "cell_type": "code",
   "execution_count": 4,
   "metadata": {
    "ExecuteTime": {
     "end_time": "2020-02-12T12:25:01.490120Z",
     "start_time": "2020-02-12T12:25:01.487065Z"
    }
   },
   "outputs": [],
   "source": [
    "import csv"
   ]
  },
  {
   "cell_type": "code",
   "execution_count": 15,
   "metadata": {
    "ExecuteTime": {
     "end_time": "2020-02-12T12:41:41.762721Z",
     "start_time": "2020-02-12T12:41:41.547125Z"
    }
   },
   "outputs": [
    {
     "data": {
      "text/plain": [
       "Text(0.5, 1.0, 'CaII distribution')"
      ]
     },
     "execution_count": 15,
     "metadata": {},
     "output_type": "execute_result"
    },
    {
     "data": {
      "image/png": "[encoded data removed]",
      "text/plain": [
       "<Figure size 432x288 with 1 Axes>"
      ]
     },
     "metadata": {
      "needs_background": "light"
     },
     "output_type": "display_data"
    }
   ],
   "source": [
    " import csv\n",
    "data = pd.read_csv('call z小于0.8 汇总.csv')['zabs'] \n",
    "plt.hist(data,40,density=False,histtype='step',label='CaII')\n",
    "plt.legend()\n",
    "plt.xlabel('z')\n",
    "plt.title('CaII distribution')\n",
    "     \n",
    "   "
   ]
  },
  {
   "cell_type": "code",
   "execution_count": 16,
   "metadata": {
    "ExecuteTime": {
     "end_time": "2020-02-12T12:45:02.668445Z",
     "start_time": "2020-02-12T12:45:02.659109Z"
    }
   },
   "outputs": [
    {
     "name": "stdout",
     "output_type": "stream",
     "text": [
      "0      0.02770\n",
      "1      0.02920\n",
      "2      0.03290\n",
      "3      0.03680\n",
      "4      0.03940\n",
      "5      0.04340\n",
      "6      0.04730\n",
      "7      0.04750\n",
      "8      0.05330\n",
      "9      0.06240\n",
      "10     0.06360\n",
      "11     0.06520\n",
      "12     0.06550\n",
      "13     0.09300\n",
      "14     0.09380\n",
      "15     0.09630\n",
      "16     0.10050\n",
      "17     0.10140\n",
      "18     0.10410\n",
      "19     0.11050\n",
      "20     0.11250\n",
      "21     0.11400\n",
      "22     0.11520\n",
      "23     0.11680\n",
      "24     0.11680\n",
      "25     0.13500\n",
      "26     0.14320\n",
      "27     0.15380\n",
      "28     0.15440\n",
      "29     0.15470\n",
      "        ...   \n",
      "335    0.00490\n",
      "336    0.02870\n",
      "337    0.06700\n",
      "338    0.01800\n",
      "339    0.07600\n",
      "340    0.05200\n",
      "341    0.00370\n",
      "342    0.36620\n",
      "343    0.01770\n",
      "344    0.34700\n",
      "345    0.13200\n",
      "346    0.44800\n",
      "347    0.39500\n",
      "348    0.21200\n",
      "349    0.24230\n",
      "350    0.11370\n",
      "351    0.00396\n",
      "352    0.08091\n",
      "353    0.10110\n",
      "354    0.39500\n",
      "355    0.15570\n",
      "356    0.09120\n",
      "357    0.13580\n",
      "358    0.11900\n",
      "359    0.19920\n",
      "360    0.14890\n",
      "361    0.09940\n",
      "362    0.00792\n",
      "363    0.00198\n",
      "364   -0.00010\n",
      "Name: zabs, Length: 365, dtype: float64\n"
     ]
    }
   ],
   "source": [
    "print(data)"
   ]
  },
  {
   "cell_type": "code",
   "execution_count": null,
   "metadata": {},
   "outputs": [],
   "source": []
  }
 ],
 "metadata": {
  "kernelspec": {
   "display_name": "Python 3",
   "language": "python",
   "name": "python3"
  },
  "language_info": {
   "codemirror_mode": {
    "name": "ipython",
    "version": 3
   },
   "file_extension": ".py",
   "mimetype": "text/x-python",
   "name": "python",
   "nbconvert_exporter": "python",
   "pygments_lexer": "ipython3",
   "version": "3.7.3"
  },
  "latex_envs": {
   "LaTeX_envs_menu_present": true,
   "autoclose": false,
   "autocomplete": true,
   "bibliofile": "biblio.bib",
   "cite_by": "apalike",
   "current_citInitial": 1,
   "eqLabelWithNumbers": true,
   "eqNumInitial": 1,
   "hotkeys": {
    "equation": "Ctrl-E",
    "itemize": "Ctrl-I"
   },
   "labels_anchors": false,
   "latex_user_defs": false,
   "report_style_numbering": false,
   "user_envs_cfg": false
  },
  "toc": {
   "base_numbering": 1,
   "nav_menu": {},
   "number_sections": true,
   "sideBar": true,
   "skip_h1_title": false,
   "title_cell": "Table of Contents",
   "title_sidebar": "Contents",
   "toc_cell": false,
   "toc_position": {},
   "toc_section_display": true,
   "toc_window_display": false
  }
 },
 "nbformat": 4,
 "nbformat_minor": 2
}
