{
 "cells": [
  {
   "cell_type": "code",
   "execution_count": 3,
   "metadata": {},
   "outputs": [
    {
     "name": "stdout",
     "output_type": "stream",
     "text": [
      "Filename: 36dla.fit\n",
      "No.    Name      Ver    Type      Cards   Dimensions   Format\n",
      "  0  PRIMARY       1 PrimaryHDU      69   ()      \n",
      "  1  J_MNRAS_449_1536_table1    1 TableHDU        91   112R x 20C   [A19, I4, F5.2, A1, F6.3, F7.4, F6.3, F6.3, F6.3, F6.3, F6.3, F6.3, F6.3, F6.3, A1, A1, A24, F9.5, F9.5, I8]   \n",
      "  2  J_MNRAS_449_1536_table2    1 TableHDU        32   39R x 6C   [A19, F7.4, E8.1, A2, E8.1, A1]   \n"
     ]
    },
    {
     "data": {
      "text/plain": [
       "XTENSION= 'TABLE   '           / Ascii Table Extension (TAB and NEWLINE sep)    \n",
       "BITPIX  =                    8 / Character data                                 \n",
       "NAXIS   =                    2 / Simple 2-D matrix                              \n",
       "NAXIS1  =                  163 / Number of bytes per record                     \n",
       "NAXIS2  =                  112 / Number of records                              \n",
       "PCOUNT  =                    0 / Get rid of random parameters                   \n",
       "GCOUNT  =                    1 / Only one group (isn't it obvious?)             \n",
       "TFIELDS =                   20 / Number of data fields (columns)                \n",
       "CDS-CAT = 'J/MNRAS/449/1536'   / Catalogue designation in CDS nomenclature      \n",
       "         New damped Ly{alpha} absorbers (Turnshek+, 2015)                       \n",
       "EXTNAME = 'J_MNRAS_449_1536_table1' / Identification of the table               \n",
       "CDS-NAME= 'J/MNRAS/449/1536/table1' / Table name in METAtab                     \n",
       "         The observed prism sample                                              \n",
       "TBCOL1  =                    2 / UCD=meta.id;meta.main char:19 offset=1         \n",
       "TFORM1  = 'A19     '           / Fortran Format                                 \n",
       "TTYPE1  = 'QSO     '           / QSO name (JHHMMSS.ss+DDMMSS.s or HHMM+DDMMCAL) \n",
       "                                 (link)                                         \n",
       "TBCOL2  =                   22 / UCD=time.duration;obs.exposure sho offset=21   \n",
       "TFORM2  = 'I4      '           / Fortran Format                                 \n",
       "TTYPE2  = 'ExpTime '           / ? Exposure time [NULL integer written as an    \n",
       "                                 empty string]                                  \n",
       "TUNIT2  = 's       '           / second                                         \n",
       "TNULL2  =               -32768 / NULL definition                                \n",
       "TBCOL3  =                   27 / UCD=phot.mag;em.opt.B float: . offset=26       \n",
       "TFORM3  = 'F5.2    '           / Fortran Format                                 \n",
       "TTYPE3  = 'gmag    '           / ? SDSS g magnitude                             \n",
       "TUNIT3  = 'mag     '           / magnitude                                      \n",
       "TBCOL4  =                   33 / UCD=meta.note char:1 ......... offset=32       \n",
       "TFORM4  = 'A1      '           / Fortran Format                                 \n",
       "TTYPE4  = 'n_gmag  '           / [*] Note on gmag                               \n",
       "TBCOL5  =                   35 / UCD=src.redshift float: ...... offset=34       \n",
       "TFORM5  = 'F6.3    '           / Fortran Format                                 \n",
       "TTYPE5  = 'zem     '           / ? Emission redshift                            \n",
       "TBCOL6  =                   42 / UCD=src.redshift float: ...... offset=41       \n",
       "TFORM6  = 'F7.4    '           / Fortran Format                                 \n",
       "TTYPE6  = 'zabs    '           / Absorption redshift                            \n",
       "TBCOL7  =                   50 / UCD=spect.line.width float: .. offset=49       \n",
       "TFORM7  = 'F6.3    '           / Fortran Format                                 \n",
       "TTYPE7  = 'W0_2796_'           / MgII (2796{AA}) rest equivalent width          \n",
       "TUNIT7  = '0.1nm   '           / 0.1 nanometre                                  \n",
       "TBCOL8  =                   57 / UCD=stat.error float: ........ offset=56       \n",
       "TFORM8  = 'F6.3    '           / Fortran Format                                 \n",
       "TTYPE8  = 'e_W0_2796_'         / rms uncertainty on W0(2796)                    \n",
       "TUNIT8  = '0.1nm   '           / 0.1 nanometre                                  \n",
       "TBCOL9  =                   64 / UCD=spect.line.width float: .. offset=63       \n",
       "TFORM9  = 'F6.3    '           / Fortran Format                                 \n",
       "TTYPE9  = 'W0_2803_'           / MgII (2803{AA}) rest equivalent width          \n",
       "TUNIT9  = '0.1nm   '           / 0.1 nanometre                                  \n",
       "TBCOL10 =                   71 / UCD=stat.error float: ........ offset=70       \n",
       "TFORM10 = 'F6.3    '           / Fortran Format                                 \n",
       "TTYPE10 = 'e_W0_2803_'         / rms uncertainty on W0(2803)                    \n",
       "TUNIT10 = '0.1nm   '           / 0.1 nanometre                                  \n",
       "TBCOL11 =                   78 / UCD=spect.line.width float: .. offset=77       \n",
       "TFORM11 = 'F6.3    '           / Fortran Format                                 \n",
       "TTYPE11 = 'W0_2852_'           / MgI (2852{AA}) rest equivalent width           \n",
       "TUNIT11 = '0.1nm   '           / 0.1 nanometre                                  \n",
       "TBCOL12 =                   85 / UCD=stat.error float: ........ offset=84       \n",
       "TFORM12 = 'F6.3    '           / Fortran Format                                 \n",
       "TTYPE12 = 'e_W0_2852_'         / rms uncertainty on W0(2852)                    \n",
       "TUNIT12 = '0.1nm   '           / 0.1 nanometre                                  \n",
       "TBCOL13 =                   92 / UCD=spect.line.width float: .. offset=91       \n",
       "TFORM13 = 'F6.3    '           / Fortran Format                                 \n",
       "TTYPE13 = 'W0_2600_'           / ? FeII (2600{AA}) rest equivalent width        \n",
       "TUNIT13 = '0.1nm   '           / 0.1 nanometre                                  \n",
       "TBCOL14 =                   99 / UCD=stat.error float: ........ offset=98       \n",
       "TFORM14 = 'F6.3    '           / Fortran Format                                 \n",
       "TTYPE14 = 'e_W0_2600_'         / ? rms uncertainty on W0(2600)                  \n",
       "TUNIT14 = '0.1nm   '           / 0.1 nanometre                                  \n",
       "TBCOL15 =                  106 / UCD=meta.code char:1 ......... offset=105      \n",
       "TFORM15 = 'A1      '           / Fortran Format                                 \n",
       "TTYPE15 = 'Status  '           / [ABCDE] Status (1) (link)                      \n",
       "TBCOL16 =                  108 / UCD=meta.ref.url char:1 ...... offset=107      \n",
       "TFORM16 = 'A1      '           / Fortran Format                                 \n",
       "TTYPE16 = 'NHI     '           / indicates NHI data in table2 (link)            \n",
       "TBCOL17 =                  110 / UCD=meta.id char:24 .......... offset=109      \n",
       "TFORM17 = 'A24     '           / Fortran Format                                 \n",
       "TTYPE17 = 'SimbadName'         / Simbad column added by the CDS                 \n",
       "TBCOL18 =                  135 / UCD=pos.eq.ra;meta.main double: offset=134     \n",
       "TFORM18 = 'F9.5    '           / Fortran Format                                 \n",
       "TTYPE18 = '_RA     '           / Right Ascension (J2000) from SIMBAD (not part  \n",
       "                                 of the original data)                          \n",
       "TUNIT18 = 'deg     '           / degree                                         \n",
       "TBCOL19 =                  145 / UCD=pos.eq.dec;meta.main double: offset=144    \n",
       "TFORM19 = 'F9.5    '           / Fortran Format                                 \n",
       "TTYPE19 = '_DE     '           / Declination (J2000) from SIMBAD (not part of   \n",
       "                                 the original data)                             \n",
       "TUNIT19 = 'deg     '           / degree                                         \n",
       "TBCOL20 =                  155 / UCD=meta.record int: ......... offset=154      \n",
       "TFORM20 = 'I8      '           / Fortran Format                                 \n",
       "TTYPE20 = 'recno   '           / Record number assigned by the VizieR team.     \n",
       "                                 Should Not be used for identification. (link)  "
      ]
     },
     "execution_count": 3,
     "metadata": {},
     "output_type": "execute_result"
    }
   ],
   "source": [
    "from astropy.table import Table\n",
    "from astropy.io import fits\n",
    "h = fits.open('36dla.fit');\n",
    "h.info()\n",
    "h[1].header\n",
    "\n",
    "\n",
    "\n"
   ]
  },
  {
   "cell_type": "code",
   "execution_count": 23,
   "metadata": {},
   "outputs": [
    {
     "ename": "NameError",
     "evalue": "name 'h' is not defined",
     "output_type": "error",
     "traceback": [
      "\u001b[1;31m---------------------------------------------------------------------------\u001b[0m",
      "\u001b[1;31mNameError\u001b[0m                                 Traceback (most recent call last)",
      "\u001b[1;32m<ipython-input-23-d014b4727754>\u001b[0m in \u001b[0;36m<module>\u001b[1;34m()\u001b[0m\n\u001b[1;32m----> 1\u001b[1;33m \u001b[0mevents\u001b[0m \u001b[1;33m=\u001b[0m \u001b[0mTable\u001b[0m\u001b[1;33m.\u001b[0m\u001b[0mread\u001b[0m\u001b[1;33m(\u001b[0m\u001b[0mh\u001b[0m\u001b[1;33m,\u001b[0m \u001b[0mhdu\u001b[0m\u001b[1;33m=\u001b[0m\u001b[1;36m1\u001b[0m\u001b[1;33m)\u001b[0m\u001b[1;33m\u001b[0m\u001b[0m\n\u001b[0m",
      "\u001b[1;31mNameError\u001b[0m: name 'h' is not defined"
     ]
    }
   ],
   "source": [
    "events = Table.read(h, hdu=1)\n"
   ]
  },
  {
   "cell_type": "code",
   "execution_count": 7,
   "metadata": {},
   "outputs": [
    {
     "name": "stdout",
     "output_type": "stream",
     "text": [
      "<TableColumns names=('INDEX','REAL','IMAG')>\n"
     ]
    }
   ],
   "source": [
    "print(events.columns)\n"
   ]
  },
  {
   "cell_type": "code",
   "execution_count": 8,
   "metadata": {},
   "outputs": [
    {
     "name": "stdout",
     "output_type": "stream",
     "text": [
      "None\n"
     ]
    }
   ],
   "source": [
    "print(events['REAL'].unit)"
   ]
  },
  {
   "cell_type": "code",
   "execution_count": 10,
   "metadata": {},
   "outputs": [
    {
     "name": "stdout",
     "output_type": "stream",
     "text": [
      "          REAL         \n",
      "-----------------------\n",
      "                    0.0\n",
      "                    0.0\n",
      "                    0.0\n",
      "                    0.0\n",
      "                    0.0\n",
      "                    0.0\n",
      "                    0.0\n",
      "                    0.0\n",
      "                    0.0\n",
      "                    0.0\n",
      "                    ...\n",
      " 1.8051982685505049e-06\n",
      "-2.1991322397961915e-08\n",
      "-1.5575006215260605e-07\n",
      " -6.702238057169335e-07\n",
      " 1.0445256690503451e-07\n",
      " -1.463354310678512e-07\n",
      " -4.587149206824178e-07\n",
      " -5.311983550413891e-09\n",
      " -9.788291503516121e-08\n",
      "-4.2334419711268156e-08\n",
      " -3.924363077459113e-07\n",
      "Length = 2100225 rows\n"
     ]
    }
   ],
   "source": [
    "print(events['REAL'])"
   ]
  },
  {
   "cell_type": "code",
   "execution_count": 11,
   "metadata": {},
   "outputs": [
    {
     "name": "stdout",
     "output_type": "stream",
     "text": [
      "          IMAG         \n",
      "-----------------------\n",
      "                    0.0\n",
      "                    0.0\n",
      "                    0.0\n",
      "                    0.0\n",
      "                    0.0\n",
      "                    0.0\n",
      "                    0.0\n",
      "                    0.0\n",
      "                    0.0\n",
      "                    0.0\n",
      "                    ...\n",
      " -4.919260886587046e-07\n",
      "-3.2158489261292867e-07\n",
      " 2.5932824849634395e-08\n",
      " 1.7144625496220623e-09\n",
      "  6.459466107083021e-07\n",
      "-1.5144704142065693e-07\n",
      "  6.342790616692757e-07\n",
      " -3.861407489851604e-09\n",
      " 2.0540122874764415e-07\n",
      " -4.265506273689965e-07\n",
      "  5.084695955241332e-07\n",
      "Length = 2100225 rows\n"
     ]
    }
   ],
   "source": [
    "print(events['IMAG'])"
   ]
  },
  {
   "cell_type": "code",
   "execution_count": 13,
   "metadata": {},
   "outputs": [
    {
     "name": "stdout",
     "output_type": "stream",
     "text": [
      " INDEX \n",
      "-------\n",
      "      1\n",
      "      3\n",
      "      4\n",
      "      7\n",
      "      8\n",
      "      9\n",
      "     13\n",
      "     14\n",
      "     15\n",
      "     16\n",
      "    ...\n",
      "4198391\n",
      "4198392\n",
      "4198393\n",
      "4198394\n",
      "4198395\n",
      "4198396\n",
      "4198397\n",
      "4198398\n",
      "4198399\n",
      "4198400\n",
      "4198401\n",
      "Length = 2100225 rows\n"
     ]
    }
   ],
   "source": [
    "print(events['INDEX'])"
   ]
  },
  {
   "cell_type": "code",
   "execution_count": 14,
   "metadata": {},
   "outputs": [],
   "source": [
    "import matplotlib.pyplot as plt\n",
    "from astropy.visualization import astropy_mpl_style\n",
    "plt.style.use(astropy_mpl_style)"
   ]
  },
  {
   "cell_type": "code",
   "execution_count": 26,
   "metadata": {},
   "outputs": [],
   "source": [
    "from astropy.io import fits\n"
   ]
  },
  {
   "cell_type": "code",
   "execution_count": 37,
   "metadata": {},
   "outputs": [
    {
     "name": "stdout",
     "output_type": "stream",
     "text": [
      "Filename: C:\\ProgramData\\Anaconda3\\data_DR14_QSO_N.fits\n",
      "No.    Name      Ver    Type      Cards   Dimensions   Format\n",
      "  0  PRIMARY       1 PrimaryHDU       4   ()      \n",
      "  1                1 BinTableHDU    112   116866R x 52C   [D, D, K, K, K, J, 3A, J, J, J, J, J, J, 3I, J, 5E, 5E, 5D, 5E, 5E, 5E, 5E, D, D, D, D, 1A, 5E, E, 5E, E, J, E, E, E, E, E, E, E, E, E, E, E, E, E, E, J, J, J, 6A, K, D]   \n"
     ]
    },
    {
     "data": {
      "text/plain": [
       "XTENSION= 'BINTABLE'           / binary table extension                         \n",
       "BITPIX  =                    8 / array data type                                \n",
       "NAXIS   =                    2 / number of array dimensions                     \n",
       "NAXIS1  =                  416 / length of dimension 1                          \n",
       "NAXIS2  =               116866 / length of dimension 2                          \n",
       "PCOUNT  =                    0 / number of group parameters                     \n",
       "GCOUNT  =                    1 / number of groups                               \n",
       "TFIELDS =                   52 / number of table fields                         \n",
       "TTYPE1  = 'RA      '                                                            \n",
       "TFORM1  = 'D       '                                                            \n",
       "TTYPE2  = 'DEC     '                                                            \n",
       "TFORM2  = 'D       '                                                            \n",
       "TTYPE3  = 'EBOSS_TARGET0'                                                       \n",
       "TFORM3  = 'K       '                                                            \n",
       "TTYPE4  = 'EBOSS_TARGET1'                                                       \n",
       "TFORM4  = 'K       '                                                            \n",
       "TTYPE5  = 'EBOSS_TARGET_ID'                                                     \n",
       "TFORM5  = 'K       '                                                            \n",
       "TTYPE6  = 'RUN     '                                                            \n",
       "TFORM6  = 'J       '                                                            \n",
       "TTYPE7  = 'RERUN   '                                                            \n",
       "TFORM7  = '3A      '                                                            \n",
       "TTYPE8  = 'CAMCOL  '                                                            \n",
       "TFORM8  = 'J       '                                                            \n",
       "TTYPE9  = 'FIELD   '                                                            \n",
       "TFORM9  = 'J       '                                                            \n",
       "TTYPE10 = 'ID      '                                                            \n",
       "TFORM10 = 'J       '                                                            \n",
       "TTYPE11 = 'CHUNK   '                                                            \n",
       "TFORM11 = 'J       '                                                            \n",
       "TTYPE12 = 'IPOLY   '                                                            \n",
       "TFORM12 = 'J       '                                                            \n",
       "TTYPE13 = 'ISECT   '                                                            \n",
       "TFORM13 = 'J       '                                                            \n",
       "TTYPE14 = 'TILE    '                                                            \n",
       "TFORM14 = '3I      '                                                            \n",
       "TTYPE15 = 'SPECTILE'                                                            \n",
       "TFORM15 = 'J       '                                                            \n",
       "TTYPE16 = 'MODELFLUX'                                                           \n",
       "TFORM16 = '5E      '                                                            \n",
       "TTYPE17 = 'FIBER2FLUX'                                                          \n",
       "TFORM17 = '5E      '                                                            \n",
       "TTYPE18 = 'MODELMAG'                                                            \n",
       "TFORM18 = '5D      '                                                            \n",
       "TTYPE19 = 'R_DEV   '                                                            \n",
       "TFORM19 = '5E      '                                                            \n",
       "TTYPE20 = 'MODELFLUX_IVAR'                                                      \n",
       "TFORM20 = '5E      '                                                            \n",
       "TTYPE21 = 'IMAGE_DEPTH'                                                         \n",
       "TFORM21 = '5E      '                                                            \n",
       "TTYPE22 = 'EXTINCTION'                                                          \n",
       "TFORM22 = '5E      '                                                            \n",
       "TTYPE23 = 'W1_MAG  '                                                            \n",
       "TFORM23 = 'D       '                                                            \n",
       "TTYPE24 = 'W1_MAG_ERR'                                                          \n",
       "TFORM24 = 'D       '                                                            \n",
       "TTYPE25 = 'ZWARNING_NOQSO'                                                      \n",
       "TFORM25 = 'D       '                                                            \n",
       "TTYPE26 = 'ZWARNING'                                                            \n",
       "TFORM26 = 'D       '                                                            \n",
       "TTYPE27 = 'CLASS_NOQSO'                                                         \n",
       "TFORM27 = '1A      '                                                            \n",
       "TTYPE28 = 'PSF_FWHM'                                                            \n",
       "TFORM28 = '5E      '                                                            \n",
       "TTYPE29 = 'AIRMASS '                                                            \n",
       "TFORM29 = 'E       '                                                            \n",
       "TTYPE30 = 'SKY_FLUX'                                                            \n",
       "TFORM30 = '5E      '                                                            \n",
       "TTYPE31 = 'EB_MINUS_V'                                                          \n",
       "TFORM31 = 'E       '                                                            \n",
       "TTYPE32 = 'IMATCH  '                                                            \n",
       "TFORM32 = 'J       '                                                            \n",
       "TTYPE33 = 'Z       '                                                            \n",
       "TFORM33 = 'E       '                                                            \n",
       "TTYPE34 = 'Z_VI    '                                                            \n",
       "TFORM34 = 'E       '                                                            \n",
       "TTYPE35 = 'Z_PL    '                                                            \n",
       "TFORM35 = 'E       '                                                            \n",
       "TTYPE36 = 'Z_PL_ERR'                                                            \n",
       "TFORM36 = 'E       '                                                            \n",
       "TTYPE37 = 'Z_PCA   '                                                            \n",
       "TFORM37 = 'E       '                                                            \n",
       "TTYPE38 = 'Z_PCA_ERR'                                                           \n",
       "TFORM38 = 'E       '                                                            \n",
       "TTYPE39 = 'Z_MGII  '                                                            \n",
       "TFORM39 = 'E       '                                                            \n",
       "TTYPE40 = 'Z_MGII_ERR'                                                          \n",
       "TFORM40 = 'E       '                                                            \n",
       "TTYPE41 = 'WEIGHT_FKP'                                                          \n",
       "TFORM41 = 'E       '                                                            \n",
       "TTYPE42 = 'WEIGHT_CP'                                                           \n",
       "TFORM42 = 'E       '                                                            \n",
       "TTYPE43 = 'WEIGHT_NOZ'                                                          \n",
       "TFORM43 = 'E       '                                                            \n",
       "TTYPE44 = 'WEIGHT_SYSTOT'                                                       \n",
       "TFORM44 = 'E       '                                                            \n",
       "TTYPE45 = 'NZ      '                                                            \n",
       "TFORM45 = 'E       '                                                            \n",
       "TTYPE46 = 'COMP    '                                                            \n",
       "TFORM46 = 'E       '                                                            \n",
       "TTYPE47 = 'PLATE   '                                                            \n",
       "TFORM47 = 'J       '                                                            \n",
       "TTYPE48 = 'FIBERID '                                                            \n",
       "TFORM48 = 'J       '                                                            \n",
       "TTYPE49 = 'MJD     '                                                            \n",
       "TFORM49 = 'J       '                                                            \n",
       "TTYPE50 = 'CLASS   '                                                            \n",
       "TFORM50 = '6A      '                                                            \n",
       "TTYPE51 = 'BOSS_TARGET1'                                                        \n",
       "TFORM51 = 'K       '                                                            \n",
       "TTYPE52 = 'WEIGHT_FOCAL'                                                        \n",
       "TFORM52 = 'D       '                                                            "
      ]
     },
     "execution_count": 37,
     "metadata": {},
     "output_type": "execute_result"
    }
   ],
   "source": [
    "m = fits.open('C:\\ProgramData\\Anaconda3\\data_DR14_QSO_N.fits');\n",
    "m.info()\n",
    "m[1].header"
   ]
  },
  {
   "cell_type": "code",
   "execution_count": 45,
   "metadata": {},
   "outputs": [],
   "source": [
    "k = ('C:\\ProgramData\\Anaconda3\\data_DR14_QSO_N.fits')"
   ]
  },
  {
   "cell_type": "code",
   "execution_count": 66,
   "metadata": {},
   "outputs": [],
   "source": [
    "image_data = fits.getdata(k, ext=1)"
   ]
  },
  {
   "cell_type": "code",
   "execution_count": 67,
   "metadata": {},
   "outputs": [
    {
     "name": "stdout",
     "output_type": "stream",
     "text": [
      "(116866,)\n"
     ]
    }
   ],
   "source": [
    "print(image_data.shape)"
   ]
  },
  {
   "cell_type": "code",
   "execution_count": 68,
   "metadata": {},
   "outputs": [
    {
     "data": {
      "text/plain": [
       "<Figure size 432x288 with 0 Axes>"
      ]
     },
     "execution_count": 68,
     "metadata": {},
     "output_type": "execute_result"
    },
    {
     "data": {
      "text/plain": [
       "<Figure size 432x288 with 0 Axes>"
      ]
     },
     "metadata": {},
     "output_type": "display_data"
    }
   ],
   "source": [
    "plt.figure()\n"
   ]
  },
  {
   "cell_type": "code",
   "execution_count": null,
   "metadata": {},
   "outputs": [],
   "source": []
  },
  {
   "cell_type": "code",
   "execution_count": 77,
   "metadata": {},
   "outputs": [
    {
     "name": "stdout",
     "output_type": "stream",
     "text": [
      "DEFAULTS\n"
     ]
    }
   ],
   "source": [
    "import numpy as np\n",
    "from astropy import wcs\n",
    "from astropy.io import fits\n",
    "import sys\n",
    "hdulist = fits.open('C:\\ProgramData\\Anaconda3\\data_DR14_QSO_N.fits');\n",
    "w = wcs.WCS(hdulist[1].header);\n",
    "print(w.wcs.name);\n",
    "w.wcs.print_contents()"
   ]
  },
  {
   "cell_type": "code",
   "execution_count": 31,
   "metadata": {},
   "outputs": [
    {
     "ename": "NameError",
     "evalue": "name 'xxxxxxxxxxxxxxx' is not defined",
     "output_type": "error",
     "traceback": [
      "\u001b[1;31m---------------------------------------------------------------------------\u001b[0m",
      "\u001b[1;31mNameError\u001b[0m                                 Traceback (most recent call last)",
      "\u001b[1;32m<ipython-input-31-9c6f04fcb80f>\u001b[0m in \u001b[0;36m<module>\u001b[1;34m()\u001b[0m\n\u001b[0;32m     19\u001b[0m \u001b[1;32mfor\u001b[0m \u001b[0mi\u001b[0m \u001b[1;32min\u001b[0m \u001b[0mrange\u001b[0m\u001b[1;33m(\u001b[0m\u001b[0mnum_for\u001b[0m\u001b[1;33m)\u001b[0m\u001b[1;33m:\u001b[0m\u001b[1;33m\u001b[0m\u001b[0m\n\u001b[0;32m     20\u001b[0m         \u001b[1;31m# 转换坐标\u001b[0m\u001b[1;33m\u001b[0m\u001b[1;33m\u001b[0m\u001b[0m\n\u001b[1;32m---> 21\u001b[1;33m         \u001b[0mra_array_calculated\u001b[0m \u001b[1;33m=\u001b[0m \u001b[0mxxxxxxxxxxxxxxx\u001b[0m\u001b[1;33m\u001b[0m\u001b[0m\n\u001b[0m\u001b[0;32m     22\u001b[0m         \u001b[0mdec_array_calculated\u001b[0m \u001b[1;33m=\u001b[0m \u001b[0mxxxxxxxxxxxxxxx\u001b[0m\u001b[1;33m\u001b[0m\u001b[0m\n\u001b[0;32m     23\u001b[0m \u001b[1;33m\u001b[0m\u001b[0m\n",
      "\u001b[1;31mNameError\u001b[0m: name 'xxxxxxxxxxxxxxx' is not defined"
     ]
    }
   ],
   "source": [
    "from astropy.io import fits\t# 为了打开fits\n",
    "import numpy as np\t# 导入numpy【专门用来处理数组】\n",
    "# 路径设置\n",
    "path_lalala = 'C:\\ProgramData\\Anaconda3\\data_DR14_QSO_N.fits'\n",
    "# 读取文件\n",
    "test_fits = fits.open(path_lalala)\n",
    "\n",
    "# 读取 ra\n",
    "ra_array = test_fits[1].data['RA']\n",
    "# 读取 dec\n",
    "dec_array = test_fits[1].data['DEC']\n",
    "\n",
    "# 转换成 numpy 形式的数组，速度更快\n",
    "ra_array = np.array(ra_array)\n",
    "dec_array = np.array(dec_array)\n",
    "\n",
    "# 循环次数为数组大小\n",
    "num_for = ra_array.size\n",
    "for i in range(num_for):\n",
    "\t# 转换坐标\n",
    "\tra_array_calculated = xxxxxxxxxxxxxxx\n",
    "\tdec_array_calculated = xxxxxxxxxxxxxxx\n",
    "\t\n",
    "# 存为文件，下次直接用！！！\n",
    "np.savetxt('/我的电脑/桌面/ra.txt',ra_array_calculated)\n",
    "np.savetxt('/我的电脑/桌面/dec.txt',dec_array_calculated)\n",
    "\n",
    "# 如果需要的话，关闭已经读取的fits文件\n",
    "test_fits.close()\n"
   ]
  },
  {
   "cell_type": "code",
   "execution_count": 78,
   "metadata": {},
   "outputs": [
    {
     "data": {
      "text/plain": [
       "<SkyCoord (FK5: equinox=J2000.000): (ra, dec) in deg\n",
       "    (229.27251463, -1.12844288)>"
      ]
     },
     "execution_count": 78,
     "metadata": {},
     "output_type": "execute_result"
    }
   ],
   "source": [
    "import astropy.units as u\n",
    ">>> from astropy.coordinates import SkyCoord\n",
    ">>> gc = SkyCoord(l=0*u.degree, b=45*u.degree, frame='galactic')\n",
    ">>> gc.fk5  "
   ]
  },
  {
   "cell_type": "code",
   "execution_count": 93,
   "metadata": {
    "scrolled": true
   },
   "outputs": [
    {
     "data": {
      "text/latex": [
       "[$190^\\circ24{}^\\prime08.715{}^{\\prime\\prime}$\n",
       " $190^\\circ26{}^\\prime19.6674{}^{\\prime\\prime}$\n",
       " $92^\\circ36{}^\\prime09.1245{}^{\\prime\\prime}$ ...\n",
       " $155^\\circ02{}^\\prime02.6929{}^{\\prime\\prime}$\n",
       " $140^\\circ57{}^\\prime43.5898{}^{\\prime\\prime}$\n",
       " $142^\\circ05{}^\\prime41.5857{}^{\\prime\\prime}$]"
      ],
      "text/plain": [
       "<Longitude [190.40242084, 190.43879649,  92.60253458, ..., 155.03408136,\n",
       "            140.96210827, 142.09488491] deg>"
      ]
     },
     "execution_count": 93,
     "metadata": {},
     "output_type": "execute_result"
    }
   ],
   "source": [
    "from astropy.io import fits\t# 为了打开fits\n",
    "import numpy as np\t# 导入numpy【专门用来处理数组】\n",
    "# 路径设置\n",
    "path_lalala = 'C:\\ProgramData\\Anaconda3\\data_DR14_QSO_N.fits'\n",
    "# 读取文件\n",
    "test_fits = fits.open(path_lalala)\n",
    "\n",
    "# 读取 ra\n",
    "ra_array = test_fits[1].data['RA']\n",
    "# 读取 dec\n",
    "dec_array = test_fits[1].data['DEC']\n",
    "\n",
    "# 转换成 numpy 形式的数组，速度更快\n",
    "ra_array = np.array(ra_array)\n",
    "dec_array = np.array(dec_array)\n",
    "c = SkyCoord(ra=ra_array*u.degree, dec=dec_array*u.degree, frame='icrs')\n",
    "c.galactic.l "
   ]
  },
  {
   "cell_type": "code",
   "execution_count": 104,
   "metadata": {},
   "outputs": [
    {
     "data": {
      "text/plain": [
       "array([190.40242084, 190.43879649,  92.60253458, ..., 155.03408136,\n",
       "       140.96210827, 142.09488491])"
      ]
     },
     "execution_count": 104,
     "metadata": {},
     "output_type": "execute_result"
    }
   ],
   "source": [
    "a = c.galactic.l \n",
    "a = np.array(a)\n"
   ]
  },
  {
   "cell_type": "code",
   "execution_count": 108,
   "metadata": {},
   "outputs": [],
   "source": []
  },
  {
   "cell_type": "code",
   "execution_count": 109,
   "metadata": {},
   "outputs": [
    {
     "data": {
      "text/latex": [
       "[$55^\\circ34{}^\\prime43.9668{}^{\\prime\\prime}$\n",
       " $55^\\circ33{}^\\prime07.182{}^{\\prime\\prime}$\n",
       " $81^\\circ06{}^\\prime46.4468{}^{\\prime\\prime}$ ...\n",
       " $41^\\circ55{}^\\prime09.4802{}^{\\prime\\prime}$\n",
       " $54^\\circ03{}^\\prime32.0149{}^{\\prime\\prime}$\n",
       " $53^\\circ34{}^\\prime59.7661{}^{\\prime\\prime}$]"
      ],
      "text/plain": [
       "<Latitude [55.57887967, 55.551995  , 81.11290188, ..., 41.91930006,\n",
       "           54.05889302, 53.58326835] deg>"
      ]
     },
     "execution_count": 109,
     "metadata": {},
     "output_type": "execute_result"
    }
   ],
   "source": [
    "c.galactic.b"
   ]
  },
  {
   "cell_type": "code",
   "execution_count": 110,
   "metadata": {},
   "outputs": [],
   "source": [
    "b = c.galactic.b \n",
    "b = np.array(b)"
   ]
  },
  {
   "cell_type": "code",
   "execution_count": 111,
   "metadata": {},
   "outputs": [],
   "source": [
    "np.savetxt('C:/ProgramData/Anaconda3/b.txt',b)"
   ]
  },
  {
   "cell_type": "code",
   "execution_count": 11,
   "metadata": {},
   "outputs": [
    {
     "ename": "OSError",
     "evalue": "[Errno 22] Invalid argument: 'C:\\\\ProgramData\\\\Anaconda3\\x07su.fit'",
     "output_type": "error",
     "traceback": [
      "\u001b[1;31m---------------------------------------------------------------------------\u001b[0m",
      "\u001b[1;31mOSError\u001b[0m                                   Traceback (most recent call last)",
      "\u001b[1;32m<ipython-input-11-f6c01b137488>\u001b[0m in \u001b[0;36m<module>\u001b[1;34m()\u001b[0m\n\u001b[1;32m----> 1\u001b[1;33m \u001b[0mopen\u001b[0m\u001b[1;33m(\u001b[0m\u001b[1;34m'C:\\ProgramData\\Anaconda3\\asu.fit'\u001b[0m\u001b[1;33m)\u001b[0m\u001b[1;33m;\u001b[0m\u001b[1;33m\u001b[0m\u001b[0m\n\u001b[0m",
      "\u001b[1;31mOSError\u001b[0m: [Errno 22] Invalid argument: 'C:\\\\ProgramData\\\\Anaconda3\\x07su.fit'"
     ]
    }
   ],
   "source": [
    "open('C:\\ProgramData\\Anaconda3\\asu.fit');\n",
    "\n"
   ]
  },
  {
   "cell_type": "code",
   "execution_count": 14,
   "metadata": {},
   "outputs": [
    {
     "ename": "SyntaxError",
     "evalue": "(unicode error) 'unicodeescape' codec can't decode bytes in position 2-3: truncated \\UXXXXXXXX escape (<ipython-input-14-68cc53c5771a>, line 2)",
     "output_type": "error",
     "traceback": [
      "\u001b[1;36m  File \u001b[1;32m\"<ipython-input-14-68cc53c5771a>\"\u001b[1;36m, line \u001b[1;32m2\u001b[0m\n\u001b[1;33m    t = open('C:\\Users\\Administrator\\Desktop\\dla，ca，mg\\apj476819t3_ascii.txt')\u001b[0m\n\u001b[1;37m            ^\u001b[0m\n\u001b[1;31mSyntaxError\u001b[0m\u001b[1;31m:\u001b[0m (unicode error) 'unicodeescape' codec can't decode bytes in position 2-3: truncated \\UXXXXXXXX escape\n"
     ]
    }
   ],
   "source": [
    "from astropy.table import Table\n",
    ">>> t = open('C:\\Users\\Administrator\\Desktop\\dla，ca，mg\\apj476819t3_ascii.txt')\n",
    ">>> \n"
   ]
  },
  {
   "cell_type": "code",
   "execution_count": 21,
   "metadata": {},
   "outputs": [
    {
     "ename": "SyntaxError",
     "evalue": "(unicode error) 'unicodeescape' codec can't decode bytes in position 2-3: truncated \\UXXXXXXXX escape (<ipython-input-21-6fc73b358bce>, line 2)",
     "output_type": "error",
     "traceback": [
      "\u001b[1;36m  File \u001b[1;32m\"<ipython-input-21-6fc73b358bce>\"\u001b[1;36m, line \u001b[1;32m2\u001b[0m\n\u001b[1;33m    a = 'C:\\Users\\Administrator\\Desktop\\dla，ca，mg\\apj476819t3_ascii.txt'\u001b[0m\n\u001b[1;37m       ^\u001b[0m\n\u001b[1;31mSyntaxError\u001b[0m\u001b[1;31m:\u001b[0m (unicode error) 'unicodeescape' codec can't decode bytes in position 2-3: truncated \\UXXXXXXXX escape\n"
     ]
    }
   ],
   "source": [
    "\n",
    "a = 'C:\\Users\\Administrator\\Desktop\\dla，ca，mg\\apj476819t3_ascii.txt'\n",
    "data = open(a)  \n",
    "               "
   ]
  },
  {
   "cell_type": "code",
   "execution_count": 24,
   "metadata": {},
   "outputs": [],
   "source": [
    "f = open(r\"C:\\Users\\Administrator\\Desktop\\新建文本文档.txt\",'r')"
   ]
  },
  {
   "cell_type": "code",
   "execution_count": 25,
   "metadata": {},
   "outputs": [
    {
     "name": "stdout",
     "output_type": "stream",
     "text": [
      "Table 3\n",
      "Individual Ca II Absorbers in the Literature^a\n",
      "\n",
      "R.A.^b\tDecl.^b\tz_QSO\tz_abs = z_gal\tr_p\t\tReferences^c\t\n",
      "J2000\tJ2000\t(kpc)\t(Aring)\t\n",
      "09:58:20\t+32:24:02\t0.531\t0.0049 (NGC 3067)\t11.4\t0.17 +or- 0.05\t1, 7\t\n",
      "20:23:46\t-36:55:20\t1.048\t0.0287 (Klemola 31A)\t11.4\t0.35 +or- 0.08\t2\t\n",
      "04:48:58\t-20:44:46\t1.894\t0.067\t15.7\t0.96 +or- 0.25\t3, 11^d\t\n",
      "13:30:07\t-20:56:16\t1.169\t0.018 (MCG-03-34-085)\t14.3\t0.58 +or- 0.09\t4, 8\t\n",
      "15:45:30\t+48:46:09\t0.401\t0.076\t64.3\t0.06 +or- 0.02\t8\t\n",
      "02:51:34\t+43:15:16\t1.31\t0.052\t14.3\t1.6 +or- 0.2^e\t5, 6\t\n",
      "10:02:05\t+55:42:58\t1.154\t0.0037 (NGC 3079)\t11.1\t0.59 +or- 0.05\t10\t\n",
      "16:34:02\t+39:00:00\t1.084\t0.3662\t20.3\t0.15 +or- 0.03\t11\t\n",
      "00:41:26\t-01:43:15\t1.679\t0.0177 (UGC 439)\t24.7\t0.52 +or- 0.07\t11\t\n",
      "00:19:46\t-10:53:13\t1.518\t0.347\t17\t0.6 +or- 0.1\t12^f\t\n",
      "11:18:50\t-00:21:00\t1.025\t0.132\t23.2\t0.62 +or- 0.15\t12\t\n",
      "12:19:11\t-00:43:45\t2.293\t0.448\t7\t0.57 +or- 0.08\t12\t\n",
      "22:46:30\t+13:10:48\t1.593\t0.395\t6\t0.9 +or- 0.2\t12\t\n",
      "09:12:04\t+59:39:57\t0.774\t0.212\t<or~ 5^g\t0.52 +or- 0.09\t12\t\n",
      "14:17:46\t+16:25:12\t1.717\t0.2423\t25.26\t0.5 +or- 0.15\t13\t\n",
      "15:57:52\t+34:21:40\t1.267\t0.1137\t7.7\t0.59 +or- 0.17\t13\t\n",
      "12:15:09\t+33:09:55\t0.616\t0.00396\t7.9\t0.16 +or- 0.009\t14, 16\t\n",
      "21:55:01\t-09:22:24\t0.19\t0.08091\t34\t0.044 +or- 0.005\t14, 17\t\n",
      "04:41:17\t-43:13:43\t0.594\t0.1011\t6.8\t0.292 +or- 0.006\t14, 18, 19, 20\t\n",
      "12:32:00\t-02:24:04\t1.045\t0.395\t6.6\t0.194 +or- 0.006\t14, 21\t\n",
      "00:13:42\t-00:24:13\t1.641\t0.1557\t3.4\t1\t15^h\t\n",
      "00:16:37\t+13:56:53\t2.574\t0.0912\t3.8\t3.5\t15\t\n",
      "10:05:14\t+53:02:40\t0.561\t0.1358\t3.6\t0.5\t15\t\n",
      "12:38:46\t+64:48:36\t1.559\t0.119\t7\t1.7\t15\t\n",
      "14:34:58\t+50:41:18\t1.485\t0.1992\t7.3\t0.9\t15\t\n",
      "14:59:38\t+37:13:14\t1.219\t0.1489\t4.4\t2.3\t15\t\n",
      "16:05:21\t+51:07:40\t1.229\t0.0994\t3.8\t0.7\t15\t\n",
      "Q0117+031^i\t ... \t ... \t0.00792 (NGC 470)\t14.7\t0.36 +or- 0.05\t11\t\n",
      "Q1015+416^i\t ... \t ... \t0.00198 (NGC 3184)\t15.7\t0.1 +or- 0.03\t11\t\n",
      "Q0959+685^i\t ... \t ... \t-0.0001 (M 81)\t88.\t0.17 +or- 0.01\t11\t\n",
      "\n",
      "Notes.\n",
      "a Only pairs with impact parameter larger than 3 kpc are included.\n",
      "b Quasars' coordinates.\n",
      "c References. (1) Boksenberg & Sargent 1978; (2) Boksenberg et al. 1980; (3) Blades et al. 1981; (4) Bergeron et al. 1987; (5) Womble et al. 1990; (6) Sargent & Steidel 1990; (7) Stocke et al. 1991; (8) Bowen et al. 1991; (9) Bowen 1991; (10) Womble et al. 1992; (11) Womble 1993; (12) Zych et al. 2007; (13) Cherinka & Schulte-Ladbeck 2011; (14) Richter et al. 2011; (15) York et al. 2012; (16) Miller et al. 1999; (17) Jenkins et al. 2003; (18) Petitjean et al. 1996; (19) Chen et al. 2005; (20) Chen & Lanzetta 2003; (21) Le Brun et al. 1997.\n",
      "d The measurements by Blades et al. (1981, 3) are used.\n",
      "e Sum of two components at z = 0.0515 and z = 0.0523.\n",
      "f Only measurements based on SDSS spectra in Zych et al. (2007, 12) are listed.\n",
      "g Assumed to be 5 kpc in Figure 1.\n",
      "h No errors are reported for the Ca ii measurements in York et al. (2012, 15).\n",
      "i These three pairs are not included in Figure 1 because we cannot confirm the information of the quasars given in Womble (1993, 11).\n",
      "\n",
      "\n"
     ]
    }
   ],
   "source": [
    "s=f.read()\n",
    "\n",
    "print(s)"
   ]
  },
  {
   "cell_type": "code",
   "execution_count": 3,
   "metadata": {},
   "outputs": [
    {
     "ename": "FileNotFoundError",
     "evalue": "[Errno 2] No such file or directory: 'C:\\\\Users\\\\Administrator\\\\Desktop\\\\新建文本文档.txt'",
     "output_type": "error",
     "traceback": [
      "\u001b[1;31m---------------------------------------------------------------------------\u001b[0m",
      "\u001b[1;31mFileNotFoundError\u001b[0m                         Traceback (most recent call last)",
      "\u001b[1;32m<ipython-input-3-293279ae27e3>\u001b[0m in \u001b[0;36m<module>\u001b[1;34m()\u001b[0m\n\u001b[0;32m      4\u001b[0m \u001b[0mcsvRow\u001b[0m \u001b[1;33m=\u001b[0m \u001b[1;33m[\u001b[0m\u001b[1;33m]\u001b[0m\u001b[1;33m\u001b[0m\u001b[0m\n\u001b[0;32m      5\u001b[0m \u001b[1;33m\u001b[0m\u001b[0m\n\u001b[1;32m----> 6\u001b[1;33m \u001b[0mf\u001b[0m \u001b[1;33m=\u001b[0m \u001b[0mopen\u001b[0m\u001b[1;33m(\u001b[0m\u001b[1;34mr\"C:\\Users\\Administrator\\Desktop\\新建文本文档.txt\"\u001b[0m\u001b[1;33m,\u001b[0m\u001b[1;34m'r'\u001b[0m\u001b[1;33m,\u001b[0m\u001b[0mencoding\u001b[0m\u001b[1;33m=\u001b[0m\u001b[1;34m'GB2312'\u001b[0m\u001b[1;33m)\u001b[0m\u001b[1;33m\u001b[0m\u001b[0m\n\u001b[0m\u001b[0;32m      7\u001b[0m \u001b[1;32mfor\u001b[0m \u001b[0mline\u001b[0m \u001b[1;32min\u001b[0m \u001b[0mf\u001b[0m\u001b[1;33m:\u001b[0m\u001b[1;33m\u001b[0m\u001b[0m\n\u001b[0;32m      8\u001b[0m     \u001b[0mcsvRow\u001b[0m \u001b[1;33m=\u001b[0m \u001b[0mline\u001b[0m\u001b[1;33m.\u001b[0m\u001b[0msplit\u001b[0m\u001b[1;33m(\u001b[0m\u001b[1;33m)\u001b[0m\u001b[1;33m\u001b[0m\u001b[0m\n",
      "\u001b[1;31mFileNotFoundError\u001b[0m: [Errno 2] No such file or directory: 'C:\\\\Users\\\\Administrator\\\\Desktop\\\\新建文本文档.txt'"
     ]
    }
   ],
   "source": [
    "import csv\n",
    "csvFile = open(\"./data.csv\",'w',newline='',encoding='utf-8')\n",
    "writer = csv.writer(csvFile)\n",
    "csvRow = []\n",
    "\n",
    "f = open(r\"C:\\Users\\Administrator\\Desktop\\新建文本文档.txt\",'r',encoding='GB2312')\n",
    "for line in f:\n",
    "    csvRow = line.split()\n",
    "    writer.writerow(csvRow)\n",
    "\n",
    "f.close()\n",
    "csvFile.close()\n",
    "\n",
    "\n"
   ]
  },
  {
   "cell_type": "code",
   "execution_count": 2,
   "metadata": {
    "ExecuteTime": {
     "end_time": "2020-02-10T03:21:34.457096Z",
     "start_time": "2020-02-10T03:21:33.690565Z"
    }
   },
   "outputs": [],
   "source": [
    "from astroquery.vizier import Vizier\n"
   ]
  },
  {
   "cell_type": "code",
   "execution_count": null,
   "metadata": {},
   "outputs": [],
   "source": []
  },
  {
   "cell_type": "code",
   "execution_count": null,
   "metadata": {},
   "outputs": [],
   "source": []
  }
 ],
 "metadata": {
  "kernelspec": {
   "display_name": "Python 3",
   "language": "python",
   "name": "python3"
  },
  "language_info": {
   "codemirror_mode": {
    "name": "ipython",
    "version": 3
   },
   "file_extension": ".py",
   "mimetype": "text/x-python",
   "name": "python",
   "nbconvert_exporter": "python",
   "pygments_lexer": "ipython3",
   "version": "3.7.3"
  },
  "latex_envs": {
   "LaTeX_envs_menu_present": true,
   "autoclose": false,
   "autocomplete": true,
   "bibliofile": "biblio.bib",
   "cite_by": "apalike",
   "current_citInitial": 1,
   "eqLabelWithNumbers": true,
   "eqNumInitial": 1,
   "hotkeys": {
    "equation": "Ctrl-E",
    "itemize": "Ctrl-I"
   },
   "labels_anchors": false,
   "latex_user_defs": false,
   "report_style_numbering": false,
   "user_envs_cfg": false
  },
  "toc": {
   "base_numbering": 1,
   "nav_menu": {},
   "number_sections": true,
   "sideBar": true,
   "skip_h1_title": false,
   "title_cell": "Table of Contents",
   "title_sidebar": "Contents",
   "toc_cell": false,
   "toc_position": {},
   "toc_section_display": true,
   "toc_window_display": false
  }
 },
 "nbformat": 4,
 "nbformat_minor": 2
}
