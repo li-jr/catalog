{
 "cells": [
  {
   "cell_type": "code",
   "execution_count": 7,
   "metadata": {
    "ExecuteTime": {
     "end_time": "2020-02-12T12:57:26.801915Z",
     "start_time": "2020-02-12T12:57:26.771933Z"
    }
   },
   "outputs": [
    {
     "name": "stdout",
     "output_type": "stream",
     "text": [
      "                    QSO                Unnamed: 1  Unnamed: 2       z  \\\n",
      "0            J0930+2848  SDSS-J093001.90+284858.4         2.0  0.0227   \n",
      "1            J1512+0128   SDSS-J151237.05+012846.         2.0  0.0295   \n",
      "2            J1619+3342   SDSSJ161916.54+334238.4         2.0  0.0964   \n",
      "3            J1009+0713   SDSSJ100902.06+071343.8         2.0  0.1139   \n",
      "4            J0122-2843                  B0120-28         1.0  0.1856   \n",
      "5            J0741+3111                     cdots         0.0  0.2220   \n",
      "6            J0954+1743                     cdots         0.0  0.2410   \n",
      "7            J1130-1449                B1127-1432         0.0  0.3140   \n",
      "8            J1616+4154   SDSSJ161649.42+415416.3         2.0  0.3210   \n",
      "9            J1232-0224                 Q1232-022         0.0  0.3950   \n",
      "10           J1251+4637                 Q1251+463         0.0  0.3965   \n",
      "11           J2334+0052                     cdots         0.0  0.4740   \n",
      "12           J0830+2410                B0827+2421         0.0  0.5191   \n",
      "13           J1431+3952                     cdots         0.0  0.6040   \n",
      "14           J2353-0028                     cdots         0.0  0.6044   \n",
      "15           J0953-0038                     cdots         0.0  0.6390   \n",
      "16           J1624+2345                B1622+2352         0.0  0.6556   \n",
      "17           J1124-1705                B1122-1648         1.0  0.6812   \n",
      "18           J0139-0023                     cdots         0.0  0.6840   \n",
      "19           J1331+3030                B1328+3045         0.0  0.6840   \n",
      "20           J1527+2452                     cdots         0.0  0.7345   \n",
      "21           J1107+0048                     cdots         0.0  0.7410   \n",
      "22           J0051+0041                     cdots         0.0  0.7420   \n",
      "23           J1225+0035                     cdots         0.0  0.7730   \n",
      "24  J001855.22-091351.1                       NaN         NaN  0.5838   \n",
      "25  J013209.75-082349.9                       NaN         NaN  0.6467   \n",
      "26  J021820.11-083259.4                       NaN         NaN  0.5899   \n",
      "27  J074043.44+344407.7                       NaN         NaN  0.4783   \n",
      "28  J074054.05+332006.5                       NaN         NaN  0.4917   \n",
      "29  J074816.97+422509.3                       NaN         NaN  0.5579   \n",
      "..                  ...                       ...         ...     ...   \n",
      "33  J084200.76+333214.8                       NaN         NaN  0.4750   \n",
      "34  J090757.59+421823.6                       NaN         NaN  0.4540   \n",
      "35  J090757.59+421823.6                       NaN         NaN  0.5106   \n",
      "36  J095648.58+383339.0                       NaN         NaN  0.6196   \n",
      "37  J095740.06+080732.2                       NaN         NaN  0.6975   \n",
      "38  J095844.07+054941.0                       NaN         NaN  0.6557   \n",
      "39  J095848.10+621839.0                       NaN         NaN  0.5357   \n",
      "40  J101211.11+073949.9                       NaN         NaN  0.6164   \n",
      "41  J105823.13+600805.6                       NaN         NaN  0.6436   \n",
      "42  J111013.80+523607.1                       NaN         NaN  0.5561   \n",
      "43  J113823.71+013924.8                       NaN         NaN  0.6130   \n",
      "44  J120449.73+095335.2                       NaN         NaN  0.6401   \n",
      "45  J120743.71+592648.2                       NaN         NaN  0.5765   \n",
      "46  J121753.03+050030.8                       NaN         NaN  0.5413   \n",
      "47  J124312.52+480838.4                       NaN         NaN  0.6053   \n",
      "48  J130544.31+530136.2                       NaN         NaN  0.6148   \n",
      "49  J131405.08+041821.8                       NaN         NaN  0.6757   \n",
      "50  J133719.31+594905.4                       NaN         NaN  0.5495   \n",
      "51  J134050.87+642544.9                       NaN         NaN  0.5463   \n",
      "52  J135741.65+052548.6                       NaN         NaN  0.6327   \n",
      "53  J135805.08+393518.3                       NaN         NaN  0.6807   \n",
      "54  J142021.45+594024.0                       NaN         NaN  0.6588   \n",
      "55  J151505.12+041012.1                       NaN         NaN  0.5592   \n",
      "56  J154744.55+483603.4                       NaN         NaN  0.5212   \n",
      "57  J161428.07+493004.4                       NaN         NaN  0.4256   \n",
      "58  J162806.69+434029.8                       NaN         NaN  0.6085   \n",
      "59  J163842.86+204841.1                       NaN         NaN  0.6684   \n",
      "60  1629+120CAL                               NaN         NaN  0.5313   \n",
      "61  2328+0022CAL                              NaN         NaN  0.6519   \n",
      "62  2353-0028CAL                              NaN         NaN  0.6044   \n",
      "\n",
      "                 Unnamed: 4 Unnamed: 5             Unnamed: 6 Unnamed: 7  \n",
      "0           20.75 +or- 0.10      cdots                  cdots        -16  \n",
      "1           20.40 +or- 0.10      cdots                  cdots        -16  \n",
      "2           20.65 +or- 0.10     0.0963        20.55 +or- 0.10         -9  \n",
      "3           20.75 +or- 0.10      0.114        20.68 +or- 0.10         -9  \n",
      "4           20.55 +or- 0.10     0.1856        20.50 +or- 0.10         -4  \n",
      "5           20.60 +or- 0.20     0.2213        20.90 +or- 0.07         -1  \n",
      "6           21.05 +or- 0.20     0.2377        21.32 +or- 0.05         -1  \n",
      "7           21.30 +or- 0.15      0.313        21.71 +or- 0.07         -1  \n",
      "8           20.65 +or- 0.20     0.3211        20.60 +or- 0.20         -9  \n",
      "9           20.85 +or- 0.15      0.395        20.75 +or- 0.07        -12  \n",
      "10          20.60 +or- 0.15      cdots                  cdots        -16  \n",
      "11          20.50 +or- 0.15     0.4713        20.65 +or- 0.15         -1  \n",
      "12          20.40 +or- 0.20     0.5247        20.30 +or- 0.05         -1  \n",
      "13          21.30 +or- 0.15      cdots                  cdots        -16  \n",
      "14          21.50 +or- 0.10     0.6044        21.54 +or- 0.15         -1  \n",
      "15          20.30 +or- 0.10     0.6381        19.90 +or- 0.08         -1  \n",
      "16          20.30 +or- 0.10      0.656                   20.3        -14  \n",
      "17          20.35 +or- 0.15     0.6819        20.45 +or- 0.15        -11  \n",
      "18          20.60 +or- 0.15     0.6828        20.60 +or- 0.07         -1  \n",
      "19          21.40 +or- 0.15      0.692                   21.3        -13  \n",
      "20          20.40 +or- 0.15      cdots                  cdots        -16  \n",
      "21          21.00 +or- 0.15      0.747        21.00 +or- 0.04         -1  \n",
      "22          20.60 +or- 0.10       0.74        20.40 +or- 0.10         -3  \n",
      "23          21.55 +or- 0.10      0.773        21.38 +or- 0.12         -1  \n",
      "24    130000000000000000000              30000000000000000000             \n",
      "25    400000000000000000000             110000000000000000000             \n",
      "26    700000000000000000000             200000000000000000000             \n",
      "27    200000000000000000000             110000000000000000000             \n",
      "28    470000000000000000000             120000000000000000000             \n",
      "29    100000000000000000000              40000000000000000000             \n",
      "..                      ...        ...                    ...        ...  \n",
      "33   2800000000000000000000             800000000000000000000             \n",
      "34     80000000000000000000              45000000000000000000             \n",
      "35   2000000000000000000000             500000000000000000000             \n",
      "36   1000000000000000000000             100000000000000000000             \n",
      "37   2800000000000000000000             300000000000000000000             \n",
      "38    350000000000000000000             120000000000000000000             \n",
      "39    500000000000000000000             200000000000000000000             \n",
      "40    150000000000000000000              40000000000000000000             \n",
      "41   1700000000000000000000             300000000000000000000          a  \n",
      "42    450000000000000000000              50000000000000000000          b  \n",
      "43   1800000000000000000000             400000000000000000000             \n",
      "44   1100000000000000000000             200000000000000000000             \n",
      "45    190000000000000000000              60000000000000000000             \n",
      "46    100000000000000000000              40000000000000000000             \n",
      "47    110000000000000000000              30000000000000000000             \n",
      "48    800000000000000000000             200000000000000000000             \n",
      "49    680000000000000000000             150000000000000000000             \n",
      "50    600000000000000000000             100000000000000000000             \n",
      "51  20000000000000000000000         >=                                 c  \n",
      "52    650000000000000000000              70000000000000000000             \n",
      "53    500000000000000000000             100000000000000000000             \n",
      "54   1400000000000000000000             200000000000000000000             \n",
      "55    160000000000000000000              70000000000000000000             \n",
      "56    200000000000000000000              50000000000000000000             \n",
      "57    400000000000000000000             200000000000000000000             \n",
      "58    300000000000000000000              80000000000000000000             \n",
      "59    600000000000000000000             100000000000000000000             \n",
      "60    580000000000000000000             110000000000000000000          d  \n",
      "61    320000000000000000000              70000000000000000000          e  \n",
      "62   2300000000000000000000             400000000000000000000          f  \n",
      "\n",
      "[63 rows x 8 columns]\n"
     ]
    }
   ],
   "source": [
    "import numpy as np\n",
    "import matplotlib.pyplot as plt\n",
    "import pandas as pd \n",
    "data = pd.read_excel('dla z小于0.8 汇总.xlsx')\n",
    "print(data)"
   ]
  },
  {
   "cell_type": "code",
   "execution_count": 8,
   "metadata": {
    "ExecuteTime": {
     "end_time": "2020-02-12T12:58:52.055761Z",
     "start_time": "2020-02-12T12:58:51.821997Z"
    }
   },
   "outputs": [
    {
     "data": {
      "text/plain": [
       "Text(0.5, 1.0, 'DLAs distribution')"
      ]
     },
     "execution_count": 8,
     "metadata": {},
     "output_type": "execute_result"
    },
    {
     "data": {
      "image/png": "[encoded data removed]",
      "text/plain": [
       "<Figure size 432x288 with 1 Axes>"
      ]
     },
     "metadata": {
      "needs_background": "light"
     },
     "output_type": "display_data"
    }
   ],
   "source": [
    "data = pd.read_excel('dla z小于0.8 汇总.xlsx')['z']\n",
    "plt.hist(data,40,density=False,histtype='step',label='DLAs')\n",
    "plt.legend()\n",
    "plt.xlabel('z')\n",
    "plt.title('DLAs distribution')"
   ]
  },
  {
   "cell_type": "code",
   "execution_count": null,
   "metadata": {},
   "outputs": [],
   "source": []
  }
 ],
 "metadata": {
  "kernelspec": {
   "display_name": "Python 3",
   "language": "python",
   "name": "python3"
  },
  "language_info": {
   "codemirror_mode": {
    "name": "ipython",
    "version": 3
   },
   "file_extension": ".py",
   "mimetype": "text/x-python",
   "name": "python",
   "nbconvert_exporter": "python",
   "pygments_lexer": "ipython3",
   "version": "3.7.3"
  },
  "latex_envs": {
   "LaTeX_envs_menu_present": true,
   "autoclose": false,
   "autocomplete": true,
   "bibliofile": "biblio.bib",
   "cite_by": "apalike",
   "current_citInitial": 1,
   "eqLabelWithNumbers": true,
   "eqNumInitial": 1,
   "hotkeys": {
    "equation": "Ctrl-E",
    "itemize": "Ctrl-I"
   },
   "labels_anchors": false,
   "latex_user_defs": false,
   "report_style_numbering": false,
   "user_envs_cfg": false
  },
  "toc": {
   "base_numbering": 1,
   "nav_menu": {},
   "number_sections": true,
   "sideBar": true,
   "skip_h1_title": false,
   "title_cell": "Table of Contents",
   "title_sidebar": "Contents",
   "toc_cell": false,
   "toc_position": {},
   "toc_section_display": true,
   "toc_window_display": false
  }
 },
 "nbformat": 4,
 "nbformat_minor": 2
}
