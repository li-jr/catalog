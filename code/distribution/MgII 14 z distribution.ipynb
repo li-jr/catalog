{
 "cells": [
  {
   "cell_type": "markdown",
   "metadata": {},
   "source": [
    "# New test"
   ]
  },
  {
   "cell_type": "markdown",
   "metadata": {},
   "source": [
    "## 导入包"
   ]
  },
  {
   "cell_type": "code",
   "execution_count": 26,
   "metadata": {
    "ExecuteTime": {
     "end_time": "2020-02-11T11:59:49.045772Z",
     "start_time": "2020-02-11T11:59:49.029980Z"
    }
   },
   "outputs": [
    {
     "name": "stdout",
     "output_type": "stream",
     "text": [
      "Filename: MgII_SNR_6_3_20181003.fits\n",
      "No.    Name      Ver    Type      Cards   Dimensions   Format\n",
      "  0  PRIMARY       1 PrimaryHDU      16   (1016,)   uint8   \n",
      "  1  /Users/sraghunathan/Research/LSS/DR14/data_DR14/publish/MgII_SNR_...    1 BinTableHDU     40   47172R x 14C   [18A, 19A, D, D, E, E, E, E, E, E, E, E, I, E]   \n"
     ]
    },
    {
     "data": {
      "text/plain": [
       "XTENSION= 'BINTABLE'           / binary table extension                         \n",
       "BITPIX  =                    8 / 8-bit bytes                                    \n",
       "NAXIS   =                    2 / 2-dimensional table                            \n",
       "NAXIS1  =                   91 / width of table in bytes                        \n",
       "NAXIS2  =                47172 / number of rows in table                        \n",
       "PCOUNT  =                    0 / size of special data area                      \n",
       "GCOUNT  =                    1 / one data group                                 \n",
       "TFIELDS =                   14 / number of columns                              \n",
       "EXTNAME = '/Users/sraghunathan/Research/LSS/DR14/data_DR14/publish/MgII_SNR_...'\n",
       "TTYPE1  = 'SDSS_name'          / label for column 1                             \n",
       "TFORM1  = '18A     '           / format for column 1                            \n",
       "TTYPE2  = 'plate-mjd-fibre'    / label for column 2                             \n",
       "TFORM2  = '19A     '           / format for column 2                            \n",
       "TTYPE3  = 'RA      '           / label for column 3                             \n",
       "TFORM3  = 'D       '           / format for column 3                            \n",
       "TTYPE4  = 'Dec.    '           / label for column 4                             \n",
       "TFORM4  = 'D       '           / format for column 4                            \n",
       "TTYPE5  = 'zQSO    '           / label for column 5                             \n",
       "TFORM5  = 'E       '           / format for column 5                            \n",
       "TTYPE6  = 'PSF_i   '           / label for column 6                             \n",
       "TFORM6  = 'E       '           / format for column 6                            \n",
       "TTYPE7  = 'z       '           / label for column 7                             \n",
       "TFORM7  = 'E       '           / format for column 7                            \n",
       "TTYPE8  = 'z_err   '           / label for column 8                             \n",
       "TFORM8  = 'E       '           / format for column 8                            \n",
       "TTYPE9  = 'W_2796  '           / label for column 9                             \n",
       "TFORM9  = 'E       '           / format for column 9                            \n",
       "TTYPE10 = 'W_2796_err'         / label for column 10                            \n",
       "TFORM10 = 'E       '           / format for column 10                           \n",
       "TTYPE11 = 'W_2803  '           / label for column 11                            \n",
       "TFORM11 = 'E       '           / format for column 11                           \n",
       "TTYPE12 = 'W_2803_err'         / label for column 12                            \n",
       "TFORM12 = 'E       '           / format for column 12                           \n",
       "TTYPE13 = 'CIV_flag'           / label for column 13                            \n",
       "TFORM13 = 'I       '           / format for column 13                           \n",
       "TTYPE14 = 'SNR_con '           / label for column 14                            \n",
       "TFORM14 = 'E       '           / format for column 14                           \n",
       "DATE-HDU= '2018-10-03T08:02:14' / Date of HDU creation (UTC)                    \n",
       "STILVERS= '3.1     '           / Version of STIL software                       \n",
       "STILCLAS= 'uk.ac.starlink.votable.FitsPlusTableWriter' / Author class in STIL so"
      ]
     },
     "execution_count": 26,
     "metadata": {},
     "output_type": "execute_result"
    }
   ],
   "source": [
    "import numpy as np\n",
    "import matplotlib.pyplot as plt\n",
    "from astropy.io import fits\n",
    "h = fits.open('MgII_SNR_6_3_20181003.fits')\n",
    "h.info()\n",
    "h[1].header\n",
    "\n"
   ]
  },
  {
   "cell_type": "markdown",
   "metadata": {},
   "source": [
    "## 代码部分"
   ]
  },
  {
   "cell_type": "code",
   "execution_count": 51,
   "metadata": {
    "ExecuteTime": {
     "end_time": "2020-02-12T03:53:06.547188Z",
     "start_time": "2020-02-12T03:53:06.355259Z"
    },
    "scrolled": false
   },
   "outputs": [
    {
     "data": {
      "text/plain": [
       "Text(0.5, 1.0, 'MgII distribution')"
      ]
     },
     "execution_count": 51,
     "metadata": {},
     "output_type": "execute_result"
    },
    {
     "data": {
      "image/png": "[encoded data removed]",
      "text/plain": [
       "<Figure size 432x288 with 1 Axes>"
      ]
     },
     "metadata": {
      "needs_background": "light"
     },
     "output_type": "display_data"
    }
   ],
   "source": [
    "k = h[1].data[(h[1].data['z']<=0.8) & (h[1].data['z']>=0)]\n",
    "plt.hist(k['z'],100,density=False,histtype='step',label='MgII')\n",
    "plt.legend()\n",
    "plt.xlabel('z')\n",
    "plt.title('MgII distribution')\n"
   ]
  },
  {
   "cell_type": "code",
   "execution_count": 52,
   "metadata": {
    "ExecuteTime": {
     "end_time": "2020-02-12T03:54:29.403354Z",
     "start_time": "2020-02-12T03:54:29.346174Z"
    }
   },
   "outputs": [],
   "source": [
    "import numpy as np\n",
    "import matplotlib.pyplot as plt\n",
    "from astropy.io import fits\n",
    "h = fits.open('MgII_SNR_6_3_20181003.fits')\n",
    "data = h[1].data \n",
    "mask = data['z'] <= 0.8\n",
    "newdata = data[mask]\n",
    "hdu = fits.BinTableHDU(data=newdata)\n",
    "hdu.writeto('MgII 14 newtable.fits')#筛选出z<=0.8的吸收体\n",
    "\n",
    "\n"
   ]
  },
  {
   "cell_type": "code",
   "execution_count": 53,
   "metadata": {
    "ExecuteTime": {
     "end_time": "2020-02-12T03:55:16.291116Z",
     "start_time": "2020-02-12T03:55:16.276900Z"
    }
   },
   "outputs": [
    {
     "name": "stdout",
     "output_type": "stream",
     "text": [
      "Filename: MgII 14 newtable.fits\n",
      "No.    Name      Ver    Type      Cards   Dimensions   Format\n",
      "  0  PRIMARY       1 PrimaryHDU       4   ()      \n",
      "  1                1 BinTableHDU     36   7480R x 14C   [18A, 19A, D, D, E, E, E, E, E, E, E, E, I, E]   \n"
     ]
    },
    {
     "data": {
      "text/plain": [
       "XTENSION= 'BINTABLE'           / binary table extension                         \n",
       "BITPIX  =                    8 / array data type                                \n",
       "NAXIS   =                    2 / number of array dimensions                     \n",
       "NAXIS1  =                   91 / length of dimension 1                          \n",
       "NAXIS2  =                 7480 / length of dimension 2                          \n",
       "PCOUNT  =                    0 / number of group parameters                     \n",
       "GCOUNT  =                    1 / number of groups                               \n",
       "TFIELDS =                   14 / number of table fields                         \n",
       "TTYPE1  = 'SDSS_name'                                                           \n",
       "TFORM1  = '18A     '                                                            \n",
       "TTYPE2  = 'plate-mjd-fibre'                                                     \n",
       "TFORM2  = '19A     '                                                            \n",
       "TTYPE3  = 'RA      '                                                            \n",
       "TFORM3  = 'D       '                                                            \n",
       "TTYPE4  = 'Dec.    '                                                            \n",
       "TFORM4  = 'D       '                                                            \n",
       "TTYPE5  = 'zQSO    '                                                            \n",
       "TFORM5  = 'E       '                                                            \n",
       "TTYPE6  = 'PSF_i   '                                                            \n",
       "TFORM6  = 'E       '                                                            \n",
       "TTYPE7  = 'z       '                                                            \n",
       "TFORM7  = 'E       '                                                            \n",
       "TTYPE8  = 'z_err   '                                                            \n",
       "TFORM8  = 'E       '                                                            \n",
       "TTYPE9  = 'W_2796  '                                                            \n",
       "TFORM9  = 'E       '                                                            \n",
       "TTYPE10 = 'W_2796_err'                                                          \n",
       "TFORM10 = 'E       '                                                            \n",
       "TTYPE11 = 'W_2803  '                                                            \n",
       "TFORM11 = 'E       '                                                            \n",
       "TTYPE12 = 'W_2803_err'                                                          \n",
       "TFORM12 = 'E       '                                                            \n",
       "TTYPE13 = 'CIV_flag'                                                            \n",
       "TFORM13 = 'I       '                                                            \n",
       "TTYPE14 = 'SNR_con '                                                            \n",
       "TFORM14 = 'E       '                                                            "
      ]
     },
     "execution_count": 53,
     "metadata": {},
     "output_type": "execute_result"
    }
   ],
   "source": [
    "p = fits.open('MgII 14 newtable.fits')\n",
    "p.info()\n",
    "p[1].header\n"
   ]
  },
  {
   "cell_type": "code",
   "execution_count": 54,
   "metadata": {
    "ExecuteTime": {
     "end_time": "2020-02-12T03:55:28.151054Z",
     "start_time": "2020-02-12T03:55:27.962787Z"
    }
   },
   "outputs": [
    {
     "data": {
      "text/plain": [
       "Text(0.5, 1.0, 'MgII distribution')"
      ]
     },
     "execution_count": 54,
     "metadata": {},
     "output_type": "execute_result"
    },
    {
     "data": {
      "image/png": "[encoded data removed]",
      "text/plain": [
       "<Figure size 432x288 with 1 Axes>"
      ]
     },
     "metadata": {
      "needs_background": "light"
     },
     "output_type": "display_data"
    }
   ],
   "source": [
    "q = p[1].data['z']\n",
    "plt.hist(q,100,density=True,histtype='step',label='MgII')\n",
    "plt.legend()\n",
    "plt.xlabel('z')\n",
    "plt.title('MgII distribution')"
   ]
  },
  {
   "cell_type": "code",
   "execution_count": 48,
   "metadata": {
    "ExecuteTime": {
     "end_time": "2020-02-11T13:22:33.728453Z",
     "start_time": "2020-02-11T13:22:33.719769Z"
    }
   },
   "outputs": [
    {
     "data": {
      "text/plain": [
       "('072739.54+392855.3', '3655-55240-0004.txt', 111.91478, 39.48204, 1.98, 20.39, 0.561, 0.0, 2.114, 0.256, 0.641, 0.191, 1, 10.945)"
      ]
     },
     "execution_count": 48,
     "metadata": {},
     "output_type": "execute_result"
    }
   ],
   "source": [
    "data = p[1].data\n",
    "data[0]"
   ]
  },
  {
   "cell_type": "code",
   "execution_count": 55,
   "metadata": {
    "ExecuteTime": {
     "end_time": "2020-02-12T03:56:03.055425Z",
     "start_time": "2020-02-12T03:56:02.843207Z"
    }
   },
   "outputs": [
    {
     "data": {
      "text/plain": [
       "Text(0.5, 1.0, 'MgII W_2796 distribution')"
      ]
     },
     "execution_count": 55,
     "metadata": {},
     "output_type": "execute_result"
    },
    {
     "data": {
      "image/png": "[encoded data removed]",
      "text/plain": [
       "<Figure size 432x288 with 1 Axes>"
      ]
     },
     "metadata": {
      "needs_background": "light"
     },
     "output_type": "display_data"
    }
   ],
   "source": [
    "q = p[1].data['W_2796']\n",
    "plt.hist(q,100,density=True,histtype='step',label='MgII W_2796')\n",
    "plt.legend()\n",
    "plt.xlabel('W_2796')\n",
    "plt.title('MgII W_2796 distribution')"
   ]
  },
  {
   "cell_type": "code",
   "execution_count": 56,
   "metadata": {
    "ExecuteTime": {
     "end_time": "2020-02-12T03:56:11.645234Z",
     "start_time": "2020-02-12T03:56:11.471381Z"
    }
   },
   "outputs": [
    {
     "data": {
      "text/plain": [
       "Text(0.5, 1.0, 'MgII W_2803 distribution')"
      ]
     },
     "execution_count": 56,
     "metadata": {},
     "output_type": "execute_result"
    },
    {
     "data": {
      "image/png": "[encoded data removed]",
      "text/plain": [
       "<Figure size 432x288 with 1 Axes>"
      ]
     },
     "metadata": {
      "needs_background": "light"
     },
     "output_type": "display_data"
    }
   ],
   "source": [
    "q = p[1].data['W_2803']\n",
    "plt.hist(q,100,density=True,histtype='step',label='MgII W_2803')\n",
    "plt.legend()\n",
    "plt.xlabel('W_2803')\n",
    "plt.title('MgII W_2803 distribution')"
   ]
  },
  {
   "cell_type": "code",
   "execution_count": null,
   "metadata": {},
   "outputs": [],
   "source": []
  }
 ],
 "metadata": {
  "kernelspec": {
   "display_name": "Python 3",
   "language": "python",
   "name": "python3"
  },
  "language_info": {
   "codemirror_mode": {
    "name": "ipython",
    "version": 3
   },
   "file_extension": ".py",
   "mimetype": "text/x-python",
   "name": "python",
   "nbconvert_exporter": "python",
   "pygments_lexer": "ipython3",
   "version": "3.7.3"
  },
  "latex_envs": {
   "LaTeX_envs_menu_present": true,
   "autoclose": false,
   "autocomplete": true,
   "bibliofile": "biblio.bib",
   "cite_by": "apalike",
   "current_citInitial": 1,
   "eqLabelWithNumbers": true,
   "eqNumInitial": 1,
   "hotkeys": {
    "equation": "Ctrl-E",
    "itemize": "Ctrl-I"
   },
   "labels_anchors": false,
   "latex_user_defs": false,
   "report_style_numbering": false,
   "user_envs_cfg": false
  },
  "toc": {
   "base_numbering": 1,
   "nav_menu": {},
   "number_sections": true,
   "sideBar": true,
   "skip_h1_title": false,
   "title_cell": "Table of Contents",
   "title_sidebar": "Contents",
   "toc_cell": false,
   "toc_position": {
    "height": "calc(100% - 180px)",
    "left": "10px",
    "top": "150px",
    "width": "165px"
   },
   "toc_section_display": true,
   "toc_window_display": true
  }
 },
 "nbformat": 4,
 "nbformat_minor": 2
}
